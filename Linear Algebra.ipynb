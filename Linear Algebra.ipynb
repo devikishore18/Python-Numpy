{
 "cells": [
  {
   "cell_type": "markdown",
   "id": "c57b4f30-1408-43c3-8df1-a7762d407bbf",
   "metadata": {},
   "source": [
    "# Linear algebra\n",
    "So far we have learned the basic operations on Numpy using Image as a base for matrices. Next, we're going to work with the linear algebra computations like solving system of linear equations, calculations based upon matrix inverse, determinants, eigenvalues, eigenvectors, norms etc.\n",
    "\n",
    "Numpy offers a separate module for linear algebra named linalg. To start using linalg, let's try to calculate a dot product of multiple matrices simultaneously."
   ]
  },
  {
   "cell_type": "code",
   "execution_count": 2,
   "id": "8d3a3b32-0fd5-4da4-882f-9a1da9587c25",
   "metadata": {},
   "outputs": [
    {
     "name": "stdout",
     "output_type": "stream",
     "text": [
      "[[ 36  66]\n",
      " [132 234]]\n"
     ]
    }
   ],
   "source": [
    "import numpy as np\n",
    "mat1 = np.arange(4).reshape(2,2)\n",
    "mat2 = (np.arange(4)*2).reshape(2,2)\n",
    "mat3 = (np.arange(4)*3).reshape(2,2)\n",
    "''' Performing multiple dot product in one go '''\n",
    "print(np.linalg.multi_dot( [mat1, mat2, mat3] ))\n"
   ]
  },
  {
   "cell_type": "markdown",
   "id": "17fbe7d7-0c03-4454-bb14-7607b9e667a2",
   "metadata": {},
   "source": [
    "As we see from above, calculating multiple dot product can be done just by passing the matrices as list into multi_dot function. This depicts the ease of use of linalg module"
   ]
  },
  {
   "cell_type": "markdown",
   "id": "c27889f7-dc8e-4b69-a8fb-9a828a3108a3",
   "metadata": {},
   "source": [
    "As we see from above, calculating multiple dot product can be done just by passing the matrices as list into multi_dot function. This depicts the ease of use of linalg module. Let's proceed ahead with some more examples.\n",
    "\n",
    "Consider a system of linear equations given below:\n",
    "\n",
    "\n",
    "Now, let us try to verify if given system has unique solutions. In case, if solutions exist, we find inverse and rank of the matrix so formed."
   ]
  },
  {
   "cell_type": "code",
   "execution_count": 3,
   "id": "18353bb5-90f1-42f2-9478-698d052200e0",
   "metadata": {},
   "outputs": [
    {
     "name": "stdout",
     "output_type": "stream",
     "text": [
      "5.000000000000001\n"
     ]
    }
   ],
   "source": [
    "a = np.array([[3, 1],[1, 2]])\n",
    "b = np.array([9, 8])\n",
    "''' Checking if system of equation has unique solution '''\n",
    "print(np.linalg.det(a)) "
   ]
  },
  {
   "cell_type": "code",
   "execution_count": 4,
   "id": "8a87efcc-329d-4986-9614-4a565cf49cbb",
   "metadata": {},
   "outputs": [
    {
     "name": "stdout",
     "output_type": "stream",
     "text": [
      "[2. 3.]\n"
     ]
    }
   ],
   "source": [
    "''' Since det = 5 which is non-zero. Hence, we have unique solutions\n",
    " Finding unique solution '''\n",
    "print(np.linalg.solve(a, b))"
   ]
  },
  {
   "cell_type": "code",
   "execution_count": 5,
   "id": "d6fd35d2-b78d-4edd-bbaa-50086d2370f3",
   "metadata": {},
   "outputs": [
    {
     "name": "stdout",
     "output_type": "stream",
     "text": [
      "[[ 0.4 -0.2]\n",
      " [-0.2  0.6]]\n"
     ]
    }
   ],
   "source": [
    "''' Calculating Inverse: Since, determinant is non-zero \n",
    " hence, matrix is invertible '''\n",
    "print(np.linalg.inv(a))"
   ]
  },
  {
   "cell_type": "code",
   "execution_count": 6,
   "id": "d815546c-64c0-4690-b14d-845423cbf84f",
   "metadata": {},
   "outputs": [
    {
     "name": "stdout",
     "output_type": "stream",
     "text": [
      "2\n"
     ]
    }
   ],
   "source": [
    "''' Calculating Rank of the matrix '''\n",
    "print(np.linalg.matrix_rank(a))"
   ]
  },
  {
   "cell_type": "raw",
   "id": "ade4d5a4-8e3b-4216-8512-78937d9c62ab",
   "metadata": {},
   "source": [
    "\n",
    "Method\tDefinition\n",
    "array()\t    Creation of a nd-array\n",
    "arrange()\tCreation of a nd-array with step-size as one of the argument\n",
    "linspace()\tCreation of a nd-array with number od values as one of the argument\n",
    "reshape()\tChanging a nd-array into new-shape\n",
    "copy()\t    Creates of new nd-array without altering the original nd-array\n",
    "hssplit()\tSplits a nd-array horizontally\n",
    "vsplit()\tSplits a nd-array vertically\n",
    "hstack()\tMerge a nd-array horizontally\n",
    "vstack()\tMerge a nd-array into vertically"
   ]
  },
  {
   "cell_type": "code",
   "execution_count": null,
   "id": "7094dd13-4d46-40e3-88d5-c65860328f65",
   "metadata": {},
   "outputs": [],
   "source": [
    "\n",
    "Attribute\tDefinition\n",
    "shape\tReturns the shape(number of rows and columns) of a nd-array\n",
    "size\tReturns the number of elements of a nd-array\n",
    "T\t    \n",
    "Transpose of a nd-array"
   ]
  }
 ],
 "metadata": {
  "kernelspec": {
   "display_name": "Python 3 (ipykernel)",
   "language": "python",
   "name": "python3"
  },
  "language_info": {
   "codemirror_mode": {
    "name": "ipython",
    "version": 3
   },
   "file_extension": ".py",
   "mimetype": "text/x-python",
   "name": "python",
   "nbconvert_exporter": "python",
   "pygments_lexer": "ipython3",
   "version": "3.13.1"
  }
 },
 "nbformat": 4,
 "nbformat_minor": 5
}
