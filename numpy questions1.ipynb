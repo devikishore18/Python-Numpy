{
 "cells": [
  {
   "cell_type": "code",
   "execution_count": null,
   "id": "63cf5ff2-f287-470a-91f9-64378e815c35",
   "metadata": {},
   "outputs": [],
   "source": [
    "NumPy Workout Questions\n",
    "1. Create a 1D NumPy array of numbers from 0 to 9.\n",
    "2. Create a 3×3 NumPy array with all elements as True.\n",
    "3. Create a 4×4 identity matrix.\n",
    "4. Generate a NumPy array of 5 random integers between 10 and 50.\n",
    "5. Reshape a 1D array of size 9 into a 3×3 matrix.\n",
    "6. Get the maximum and minimum values from a given NumPy array.\n",
    "7. Replace all even numbers in an array with -1.\n",
    "8. Flatten a 2D array to 1D.\n",
    "9. Find the mean, median, and standard deviation of a NumPy array.\n",
    "10. Check if any or all elements in a boolean array are True.\n"
   ]
  },
  {
   "cell_type": "code",
   "execution_count": 1,
   "id": "1679bb2f-8aea-49a7-a135-1c8f968c05b8",
   "metadata": {},
   "outputs": [],
   "source": [
    "import numpy as np"
   ]
  },
  {
   "cell_type": "code",
   "execution_count": 13,
   "id": "da8f1016-4037-4e1c-a291-555863febf77",
   "metadata": {},
   "outputs": [
    {
     "data": {
      "text/plain": [
       "array([0, 1, 2, 3, 4, 5, 6, 7, 8, 9])"
      ]
     },
     "execution_count": 13,
     "metadata": {},
     "output_type": "execute_result"
    }
   ],
   "source": [
    "#Create a 1D NumPy array of numbers from 0 to 9.\n",
    "a=np.array([0,1,2,3,4,5,6,7,8,9])\n",
    "a"
   ]
  },
  {
   "cell_type": "code",
   "execution_count": 14,
   "id": "e0eeb93a-0a38-4a39-b10b-e175e09ddc24",
   "metadata": {},
   "outputs": [
    {
     "data": {
      "text/plain": [
       "array([ 0,  1,  2,  3,  4,  5,  6,  7,  8,  9, 10])"
      ]
     },
     "execution_count": 14,
     "metadata": {},
     "output_type": "execute_result"
    }
   ],
   "source": [
    "#Create a 1D NumPy array of numbers from 0 to 9.\n",
    "a=np.arange(11)\n",
    "a"
   ]
  },
  {
   "cell_type": "code",
   "execution_count": 15,
   "id": "af2f7bee-369a-4e4b-b3c3-1c6eb33f3f6b",
   "metadata": {},
   "outputs": [
    {
     "data": {
      "text/plain": [
       "array([[ True,  True,  True],\n",
       "       [ True,  True,  True],\n",
       "       [ True,  True,  True]])"
      ]
     },
     "execution_count": 15,
     "metadata": {},
     "output_type": "execute_result"
    }
   ],
   "source": [
    "#Create a 3×3 NumPy array with all elements as True.\n",
    "a=np.ones((3,3))\n",
    "a>=1"
   ]
  },
  {
   "cell_type": "code",
   "execution_count": 16,
   "id": "30872906-c015-49db-b2e0-ee3a35fe8859",
   "metadata": {},
   "outputs": [
    {
     "data": {
      "text/plain": [
       "array([[ True,  True,  True],\n",
       "       [ True,  True,  True],\n",
       "       [ True,  True,  True]])"
      ]
     },
     "execution_count": 16,
     "metadata": {},
     "output_type": "execute_result"
    }
   ],
   "source": [
    "#Create a 3×3 NumPy array with all elements as True.\n",
    "a=np.full((3,3),True)\n",
    "a"
   ]
  },
  {
   "cell_type": "code",
   "execution_count": 19,
   "id": "6e6ce69f-86dd-4440-b8c5-927866c7d6c2",
   "metadata": {},
   "outputs": [
    {
     "data": {
      "text/plain": [
       "array([[1., 0., 0., 0.],\n",
       "       [0., 1., 0., 0.],\n",
       "       [0., 0., 1., 0.],\n",
       "       [0., 0., 0., 1.]])"
      ]
     },
     "execution_count": 19,
     "metadata": {},
     "output_type": "execute_result"
    }
   ],
   "source": [
    "#Create a 4×4 identity matrix.\n",
    "a=np.eye(4,4)\n",
    "a"
   ]
  },
  {
   "cell_type": "code",
   "execution_count": 26,
   "id": "45ba1fe7-db9d-4ac7-b92d-11a97df3f72c",
   "metadata": {},
   "outputs": [
    {
     "data": {
      "text/plain": [
       "array([23, 13, 16, 44, 43], dtype=int32)"
      ]
     },
     "execution_count": 26,
     "metadata": {},
     "output_type": "execute_result"
    }
   ],
   "source": [
    "#Generate a NumPy array of 5 random integers between 10 and 50.\n",
    "a=np.random.randint(10,51,size=5)\n",
    "a"
   ]
  },
  {
   "cell_type": "code",
   "execution_count": 30,
   "id": "5e65003e-b6ec-4e8c-8760-2dc004a7f20a",
   "metadata": {},
   "outputs": [
    {
     "data": {
      "text/plain": [
       "array([0, 1, 2, 3, 4, 5, 6, 7, 8])"
      ]
     },
     "execution_count": 30,
     "metadata": {},
     "output_type": "execute_result"
    }
   ],
   "source": [
    "#Reshape a 1D array of size 9 into a 3×3 matrix.\n",
    "a=np.arange(9)\n",
    "a"
   ]
  },
  {
   "cell_type": "code",
   "execution_count": 34,
   "id": "79cd22a2-319c-4927-ad70-205a4b2ac2cc",
   "metadata": {},
   "outputs": [
    {
     "data": {
      "text/plain": [
       "array([[0, 1, 2],\n",
       "       [3, 4, 5],\n",
       "       [6, 7, 8]])"
      ]
     },
     "execution_count": 34,
     "metadata": {},
     "output_type": "execute_result"
    }
   ],
   "source": [
    "b=a.reshape(3,3)\n",
    "b"
   ]
  },
  {
   "cell_type": "code",
   "execution_count": 36,
   "id": "b4a48842-d6aa-4234-9ed7-87e48d2f48d6",
   "metadata": {},
   "outputs": [
    {
     "data": {
      "text/plain": [
       "array([10, 11, 12, 13, 14, 15, 16, 17, 18, 19])"
      ]
     },
     "execution_count": 36,
     "metadata": {},
     "output_type": "execute_result"
    }
   ],
   "source": [
    "#Get the maximum and minimum values from a given NumPy array.\n",
    "a=np.arange(10,20)\n",
    "a"
   ]
  },
  {
   "cell_type": "code",
   "execution_count": 37,
   "id": "d1592735-530e-4ac4-aaf4-86e99d9b3413",
   "metadata": {},
   "outputs": [
    {
     "data": {
      "text/plain": [
       "np.int64(10)"
      ]
     },
     "execution_count": 37,
     "metadata": {},
     "output_type": "execute_result"
    }
   ],
   "source": [
    "a.min()"
   ]
  },
  {
   "cell_type": "code",
   "execution_count": 38,
   "id": "cb504d97-1e8b-4993-81d0-d6252c2f00ee",
   "metadata": {},
   "outputs": [
    {
     "data": {
      "text/plain": [
       "np.int64(19)"
      ]
     },
     "execution_count": 38,
     "metadata": {},
     "output_type": "execute_result"
    }
   ],
   "source": [
    "a.max()"
   ]
  },
  {
   "cell_type": "code",
   "execution_count": 46,
   "id": "80cd67d5-4fab-40d9-8fcc-3832f20da70b",
   "metadata": {},
   "outputs": [
    {
     "data": {
      "text/plain": [
       "array([-1,  9,  5, -1, -1, -1, -1])"
      ]
     },
     "execution_count": 46,
     "metadata": {},
     "output_type": "execute_result"
    }
   ],
   "source": [
    "#Replace all even numbers in an array with -1.\n",
    "a=np.array([0,9,5,8,6,2,4])\n",
    "a[a%2==0]=-1\n",
    "a"
   ]
  },
  {
   "cell_type": "code",
   "execution_count": 49,
   "id": "fbda7768-548f-417b-8260-bca412f175f8",
   "metadata": {},
   "outputs": [
    {
     "data": {
      "text/plain": [
       "2"
      ]
     },
     "execution_count": 49,
     "metadata": {},
     "output_type": "execute_result"
    }
   ],
   "source": [
    "# Flatten a 2D array to 1D.\n",
    "a=np.array([[1,2,3],[1,5,6]])\n",
    "a.ndim\n"
   ]
  },
  {
   "cell_type": "code",
   "execution_count": 56,
   "id": "b3e5c4ee-c994-419b-9d63-341786852664",
   "metadata": {},
   "outputs": [
    {
     "data": {
      "text/plain": [
       "array([1, 2, 3, 1, 5, 6])"
      ]
     },
     "execution_count": 56,
     "metadata": {},
     "output_type": "execute_result"
    }
   ],
   "source": [
    "b=a.flatten()\n",
    "b"
   ]
  },
  {
   "cell_type": "code",
   "execution_count": 57,
   "id": "895307eb-6468-43a7-b9fe-4ce2ea91b853",
   "metadata": {},
   "outputs": [
    {
     "data": {
      "text/plain": [
       "1"
      ]
     },
     "execution_count": 57,
     "metadata": {},
     "output_type": "execute_result"
    }
   ],
   "source": [
    "b.ndim"
   ]
  },
  {
   "cell_type": "code",
   "execution_count": 58,
   "id": "534645a5-35ef-4c73-a006-5c27de76143c",
   "metadata": {},
   "outputs": [
    {
     "data": {
      "text/plain": [
       "np.float64(3.0)"
      ]
     },
     "execution_count": 58,
     "metadata": {},
     "output_type": "execute_result"
    }
   ],
   "source": [
    "#Find the mean, median, and standard deviation of a NumPy array.\n",
    "a=np.array([[1,2,3],[1,5,6]])\n",
    "a.mean()"
   ]
  },
  {
   "cell_type": "code",
   "execution_count": 61,
   "id": "acf0f633-17fa-4df9-9184-e0c73167ef6a",
   "metadata": {},
   "outputs": [
    {
     "data": {
      "text/plain": [
       "np.float64(1.9148542155126762)"
      ]
     },
     "execution_count": 61,
     "metadata": {},
     "output_type": "execute_result"
    }
   ],
   "source": [
    "a.std()"
   ]
  },
  {
   "cell_type": "code",
   "execution_count": 64,
   "id": "a012b628-7605-4bf7-acab-134ebd7b99b4",
   "metadata": {},
   "outputs": [
    {
     "data": {
      "text/plain": [
       "np.float64(2.5)"
      ]
     },
     "execution_count": 64,
     "metadata": {},
     "output_type": "execute_result"
    }
   ],
   "source": [
    "np.median(a)"
   ]
  },
  {
   "cell_type": "code",
   "execution_count": null,
   "id": "33280337-07bd-4332-bebd-3b478cfdcf46",
   "metadata": {},
   "outputs": [],
   "source": [
    "#Check if any or all elements in a boolean array are True.\n"
   ]
  }
 ],
 "metadata": {
  "kernelspec": {
   "display_name": "Python 3 (ipykernel)",
   "language": "python",
   "name": "python3"
  },
  "language_info": {
   "codemirror_mode": {
    "name": "ipython",
    "version": 3
   },
   "file_extension": ".py",
   "mimetype": "text/x-python",
   "name": "python",
   "nbconvert_exporter": "python",
   "pygments_lexer": "ipython3",
   "version": "3.13.1"
  }
 },
 "nbformat": 4,
 "nbformat_minor": 5
}
