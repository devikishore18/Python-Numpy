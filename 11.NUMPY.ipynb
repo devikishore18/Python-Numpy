{
 "cells": [
  {
   "cell_type": "markdown",
   "id": "45e3df1d-ed2b-48b7-92c2-570b16d6ba56",
   "metadata": {},
   "source": [
    "# NumPy — Numerical Python\n",
    "\n",
    "## What is NumPy?\n",
    "\n",
    "- NumPy stands for **Numerical Python**\n",
    "- It is a **fast, efficient library** for working with arrays, matrices, and numerical data.\n",
    "- Used extensively in **data science**, **machine learning**, **scientific computing**.\n",
    "\n",
    " Install: `pip install numpy`\n",
    "\n",
    "---\n",
    "\n",
    "## Why Use NumPy?\n",
    "- In Python we have lists that serve the purpose of arrays, but they are slow to process.\n",
    "- NumPy aims to provide an array object that is up to 50x faster than traditional Python lists.\n",
    "- The array object in NumPy is called ndarray, it provides a lot of supporting functions that make working with ndarray very easy.\n",
    "\n",
    "## 📌 Import NumPy\n",
    "\n",
    "```python\n",
    "import numpy as np\n",
    "\n",
    "alias: In Python alias are an alternate name for referring to the same thing.\n",
    "\n",
    "\n",
    "\n"
   ]
  },
  {
   "cell_type": "markdown",
   "id": "3cec82e2-9edc-45bb-b63c-6b5d5e6f5e82",
   "metadata": {},
   "source": [
    "## Create NumPy Arrays"
   ]
  },
  {
   "cell_type": "code",
   "execution_count": 2,
   "id": "6131514e-811b-46f7-860e-e67f74867d6a",
   "metadata": {},
   "outputs": [],
   "source": [
    "import numpy as np\n",
    "#0-D arrays, or Scalars, are the elements in an array. Each value in an array is a 0-D array.\n",
    "arr = np.array(42)\n",
    "\n",
    "# 1D array - An array that has 0-D arrays as its elements is called uni-dimensional or 1-D array.\n",
    "a = np.array([1, 2, 3])\n",
    "\n",
    "\n",
    "# 2D array - (matrix)-An array that has 1-D arrays as its elements is called a 2-D array.\n",
    "b = np.array([[1, 2], [3, 4]])\n",
    "\n",
    "#3D array - An array that has 2-D arrays (matrices) as its elements is called 3-D array.\n",
    "arr = np.array([[[1, 2, 3], [4, 5, 6]], [[1, 2, 3], [4, 5, 6]]])\n",
    "\n",
    "\n",
    "# Array of zeros\n",
    "z = np.zeros((2, 3))\n",
    "\n",
    "# Array of ones\n",
    "o = np.ones((3, 3))\n",
    "\n",
    "# Range of numbers\n",
    "r = np.arange(0, 10, 2)\n",
    "\n",
    "# Evenly spaced numbers\n",
    "l = np.linspace(0, 1, 5)\n"
   ]
  },
  {
   "cell_type": "markdown",
   "id": "e787798c-ba00-4b12-a948-cef0f95995ce",
   "metadata": {},
   "source": [
    "## Array Properties"
   ]
  },
  {
   "cell_type": "code",
   "execution_count": 3,
   "id": "c6bf9fd6-5626-4142-ba2b-5ec35732b17b",
   "metadata": {},
   "outputs": [
    {
     "name": "stdout",
     "output_type": "stream",
     "text": [
      "Shape: (2, 3)\n",
      "Size: 6\n",
      "Data Type: int64\n",
      "Dimensions: 2\n"
     ]
    }
   ],
   "source": [
    "arr = np.array([[1, 2, 3], [4, 5, 6]])\n",
    "\n",
    "print(\"Shape:\", arr.shape)   #returns a tuple with each index having the number of corresponding elements.\n",
    "print(\"Size:\", arr.size)\n",
    "print(\"Data Type:\", arr.dtype)  #returns the data type of the array\n",
    "print(\"Dimensions:\", arr.ndim)  # how many dimensions the array have.\n"
   ]
  },
  {
   "cell_type": "markdown",
   "id": "1714b8c6-ac41-4c89-be7c-e7e85cf2882d",
   "metadata": {},
   "source": [
    "## Data Types in NumPy\n",
    "\n",
    "Below is a list of all data types in NumPy and the characters used to represent them.\n",
    "\n",
    "i - integer\n",
    "\n",
    "b - boolean\n",
    "\n",
    "u - unsigned integer\n",
    "\n",
    "f - float\n",
    "\n",
    "c - complex float\n",
    "\n",
    "m - timedelta\n",
    "\n",
    "M - datetime\n",
    "\n",
    "O - object\n",
    "\n",
    "S - string\n",
    "\n",
    "U - unicode string\n",
    "\n",
    "V - fixed chunk of memory for other type ( void )\n"
   ]
  },
  {
   "cell_type": "markdown",
   "id": "c21ce6fe-5757-4e8a-b790-77449a40ec23",
   "metadata": {},
   "source": [
    "## Array Indexing & Slicing\n",
    "Array indexing is the same as accessing an array element.\n",
    "\n",
    "The indexes in NumPy arrays start with 0, meaning that the first element has index 0, and the second has index 1 etc.\n",
    "\n",
    "\n"
   ]
  },
  {
   "cell_type": "code",
   "execution_count": 4,
   "id": "5ad87828-ba52-43bc-b9c3-1413e706d5fd",
   "metadata": {},
   "outputs": [
    {
     "name": "stdout",
     "output_type": "stream",
     "text": [
      "10\n",
      "[20 30 40]\n",
      "[3 4]\n",
      "3\n"
     ]
    }
   ],
   "source": [
    "a = np.array([10, 20, 30, 40, 50])\n",
    "\n",
    "print(a[0])      # First element\n",
    "print(a[1:4])    # Slice\n",
    "\n",
    "# 2D slicing\n",
    "b = np.array([[1, 2], [3, 4], [5, 6]])\n",
    "print(b[1])       # Second row\n",
    "print(b[1, 0])    # Element at row 1, col 0\n",
    "#We pass slice instead of index like this: [start:end].\n",
    "#We can also define the step, like this: [start:end:step].\n",
    "\n",
    "\n",
    "\n"
   ]
  },
  {
   "cell_type": "markdown",
   "id": "8f979f3f-d06f-4fae-8733-a202b052b913",
   "metadata": {},
   "source": [
    "## Array Operations"
   ]
  },
  {
   "cell_type": "code",
   "execution_count": 5,
   "id": "c27165ba-ad05-41bb-a73b-8af2cf43e0fa",
   "metadata": {},
   "outputs": [
    {
     "name": "stdout",
     "output_type": "stream",
     "text": [
      "[5 7 9]\n",
      "[ 4 10 18]\n",
      "[1 4 9]\n"
     ]
    }
   ],
   "source": [
    "x = np.array([1, 2, 3])\n",
    "y = np.array([4, 5, 6])\n",
    "\n",
    "print(x + y)     # Add\n",
    "print(x * y)     # Multiply element-wise\n",
    "print(x ** 2)    # Square\n"
   ]
  },
  {
   "cell_type": "markdown",
   "id": "7321046f-6acf-4b71-9a19-05e5a50db4dd",
   "metadata": {},
   "source": [
    "## Useful NumPy Functions"
   ]
  },
  {
   "cell_type": "code",
   "execution_count": 6,
   "id": "6d177fbf-2abf-4f32-8c0b-168d7e1ebe9e",
   "metadata": {},
   "outputs": [
    {
     "name": "stdout",
     "output_type": "stream",
     "text": [
      "Sum: 15\n",
      "Mean: 3.0\n",
      "Max: 5\n",
      "Min: 1\n",
      "Standard Deviation: 1.4142135623730951\n"
     ]
    }
   ],
   "source": [
    "a = np.array([1, 2, 3, 4, 5])\n",
    "\n",
    "print(\"Sum:\", np.sum(a))\n",
    "print(\"Mean:\", np.mean(a))\n",
    "print(\"Max:\", np.max(a))\n",
    "print(\"Min:\", np.min(a))\n",
    "print(\"Standard Deviation:\", np.std(a))\n"
   ]
  },
  {
   "cell_type": "markdown",
   "id": "dddf65e0-484c-4368-9b85-5a73d83a7623",
   "metadata": {},
   "source": [
    "## Reshape and Flatten\n",
    "Reshaping means changing the shape of an array.\n",
    "\n",
    "The shape of an array is the number of elements in each dimension.\n",
    "\n",
    "By reshaping we can add or remove dimensions or change number of elements in each dimension.\n",
    "\n"
   ]
  },
  {
   "cell_type": "code",
   "execution_count": 10,
   "id": "4d912468-cdf5-486b-a0a0-fb99f574571c",
   "metadata": {},
   "outputs": [],
   "source": [
    "arr = np.array([[1, 2, 3], [4, 5, 6]])\n",
    "\n",
    "reshaped = arr.reshape((3, 2))\n",
    "flattened = arr.flatten()  #Flattening array means converting a multidimensional array into a 1D array.\n",
    "\n",
    "\n"
   ]
  },
  {
   "cell_type": "markdown",
   "id": "8de7278e-9e62-4514-948b-d647787fc6fa",
   "metadata": {},
   "source": [
    "## Broadcasting"
   ]
  },
  {
   "cell_type": "code",
   "execution_count": 8,
   "id": "e61ac37c-0598-42fc-8826-b8f1132bdb5f",
   "metadata": {},
   "outputs": [
    {
     "name": "stdout",
     "output_type": "stream",
     "text": [
      "[2 4 6]\n"
     ]
    }
   ],
   "source": [
    "a = np.array([1, 2, 3])\n",
    "b = 2\n",
    "print(a * b)  # Multiplies each element by 2\n"
   ]
  },
  {
   "cell_type": "markdown",
   "id": "54a8e9e3-ac8c-4454-b693-9d5540e8b891",
   "metadata": {},
   "source": [
    "## Practice Examples"
   ]
  },
  {
   "cell_type": "code",
   "execution_count": 9,
   "id": "9c2cebca-1bb4-4560-bc2d-146a832661d0",
   "metadata": {},
   "outputs": [
    {
     "data": {
      "text/plain": [
       "array([3, 2, 1])"
      ]
     },
     "execution_count": 9,
     "metadata": {},
     "output_type": "execute_result"
    }
   ],
   "source": [
    "# 1. Create a 4x4 identity matrix\n",
    "np.eye(4)\n",
    "\n",
    "# 2. Replace even numbers in an array with -1\n",
    "arr = np.array([1, 2, 3, 4, 5, 6])\n",
    "arr[arr % 2 == 0] = -1\n",
    "\n",
    "# 3. Reverse a NumPy array\n",
    "np.array([1, 2, 3])[::-1]\n",
    "\n"
   ]
  },
  {
   "cell_type": "markdown",
   "id": "fbb2ad80-427f-43b0-84d6-3d69d319f94f",
   "metadata": {},
   "source": [
    "## Summary Table"
   ]
  },
  {
   "cell_type": "markdown",
   "id": "372ecf95-75d6-4d19-b83e-2de2f477859e",
   "metadata": {},
   "source": [
    "| Task               | Function/Method                   |\n",
    "| ------------------ | --------------------------------- |\n",
    "| Create array       | `np.array()`                      |\n",
    "| Zeros/ones/range   | `np.zeros()`, `np.arange()`       |\n",
    "| Shape/size         | `.shape`, `.size`                 |\n",
    "| Math ops           | `+`, `*`, `np.sum()`, `np.mean()` |\n",
    "| Index/slice        | `arr[1:3]`, `arr[1, 2]`           |\n",
    "| Reshape/flatten    | `.reshape()`, `.flatten()`        |\n",
    "| Identity matrix    | `np.eye(n)`                       |\n",
    "| Conditional select | `arr[arr > 2]`                    |\n"
   ]
  },
  {
   "cell_type": "markdown",
   "id": "1e245a27-7116-4b8b-865c-0cd6e2d8b5c0",
   "metadata": {},
   "source": [
    "✅ NumPy is the backbone of numerical computing in Python — fast, efficient, and essential for data analysis, ML, and beyond!"
   ]
  },
  {
   "cell_type": "code",
   "execution_count": null,
   "id": "cff2e316-4d98-4737-8e11-f66c961ec22e",
   "metadata": {},
   "outputs": [],
   "source": []
  }
 ],
 "metadata": {
  "kernelspec": {
   "display_name": "Python 3 (ipykernel)",
   "language": "python",
   "name": "python3"
  },
  "language_info": {
   "codemirror_mode": {
    "name": "ipython",
    "version": 3
   },
   "file_extension": ".py",
   "mimetype": "text/x-python",
   "name": "python",
   "nbconvert_exporter": "python",
   "pygments_lexer": "ipython3",
   "version": "3.13.1"
  }
 },
 "nbformat": 4,
 "nbformat_minor": 5
}
